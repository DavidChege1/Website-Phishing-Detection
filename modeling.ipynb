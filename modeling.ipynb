{
 "cells": [
  {
   "cell_type": "markdown",
   "metadata": {},
   "source": [
    "# Modeling"
   ]
  },
  {
   "cell_type": "code",
   "execution_count": 1,
   "metadata": {},
   "outputs": [],
   "source": [
    "import pandas as pd\n",
    "import lightgbm as lgb\n",
    "import matplotlib.pyplot as plt\n",
    "from sklearn.preprocessing import StandardScaler\n",
    "from sklearn.feature_extraction.text import TfidfVectorizer\n",
    "from sklearn.preprocessing import LabelEncoder\n",
    "from sklearn.model_selection import train_test_split\n",
    "from sklearn.ensemble import RandomForestClassifier\n",
    "from sklearn.tree import DecisionTreeClassifier\n",
    "from sklearn.metrics import accuracy_score\n",
    "from sklearn.linear_model import LogisticRegression\n",
    "from sklearn.model_selection import train_test_split, GridSearchCV\n",
    "from sklearn.metrics import accuracy_score, classification_report\n",
    "from sklearn.ensemble import GradientBoostingClassifier\n",
    "from imblearn.over_sampling import SMOTE\n",
    "from scipy.sparse import hstack\n",
    "import scipy.sparse as sp\n",
    "from sklearn.linear_model import LogisticRegression\n",
    "import xgboost as xgb\n",
    "from sklearn.pipeline import Pipeline\n",
    "from xgboost import XGBClassifier, XGBRegressor\n",
    "from sklearn.metrics import (confusion_matrix, accuracy_score, precision_score, classification_report,\n",
    "                             recall_score, f1_score, mean_squared_error, r2_score, \n",
    "                             roc_curve, roc_auc_score, auc, ConfusionMatrixDisplay)\n",
    "import tensorflow as tf\n",
    "from tensorflow.keras.models import Sequential\n",
    "from tensorflow.keras.layers import Dense, Dropout, BatchNormalization\n",
    "from tensorflow.keras.optimizers import Adam\n",
    "from tensorflow.keras.callbacks import EarlyStopping\n",
    "\n"
   ]
  },
  {
   "cell_type": "code",
   "execution_count": 2,
   "metadata": {},
   "outputs": [],
   "source": [
    "# Load data\n",
    "df = pd.read_csv('cleaned_data.csv')\n",
    "df_reduced = df.drop(['Unnamed: 0'], axis=1)"
   ]
  },
  {
   "cell_type": "code",
   "execution_count": 3,
   "metadata": {},
   "outputs": [],
   "source": [
    "# Important Columns \n",
    "df_main = df_reduced[[\"URL\",\n",
    "                      \"URLSimilarityIndex\",\n",
    "                      \"TLDLegitimateProb\",\n",
    "                      \"HasObfuscation\",\n",
    "                      \"NoOfObfuscatedChar\", \n",
    "                      \"NoOfDegitsInURL\",\n",
    "                        \"HasTitle\", \"HasFavicon\",\n",
    "                        \"IsResponsive\", \"NoOfURLRedirect\",\n",
    "                        \"NoOfSelfRedirect\",\n",
    "                        \"NoOfPopup\",\n",
    "                        \"HasExternalFormSubmit\",\n",
    "                        \"HasSocialNet\",\n",
    "                        \"HasHiddenFields\",\n",
    "                        \"Bank\", \n",
    "                        \"Pay\",\n",
    "                        \"Crypto\",\n",
    "                        \"HasCopyrightInfo\",\n",
    "                        \"label\"\n",
    "                        ]]"
   ]
  },
  {
   "cell_type": "markdown",
   "metadata": {},
   "source": [
    "Preparing the Data For Modeling\n"
   ]
  },
  {
   "cell_type": "code",
   "execution_count": 4,
   "metadata": {},
   "outputs": [],
   "source": [
    "nums = df_reduced.select_dtypes(include=['float64', 'int64'])\n",
    "nums = nums.drop(['label'], axis=1)\n",
    "\n",
    "tfidfvectorizer = TfidfVectorizer()\n",
    "title_features = tfidfvectorizer.fit_transform(df_main['URL'])\n",
    "\n",
    "scaler = StandardScaler()\n",
    "scaled_numeric_features = scaler.fit_transform(nums)\n",
    "final_features = hstack([title_features, scaled_numeric_features])\n",
    "\n",
    "X_train, X_test, y_train, y_test = train_test_split(final_features, df_main[\"label\"], test_size=0.3, random_state=42)"
   ]
  },
  {
   "cell_type": "markdown",
   "metadata": {},
   "source": [
    "### Model 1: Logistic Regression"
   ]
  },
  {
   "cell_type": "code",
   "execution_count": 5,
   "metadata": {},
   "outputs": [
    {
     "name": "stdout",
     "output_type": "stream",
     "text": [
      "Logistic Regression Accuracy: 0.999657651489216, Precision: 0.999407231772377, Recall: 1.0, F1 Score: 0.9997035280166024, Confusion Matrix: [[3702    3]\n",
      " [   0 5058]]\n"
     ]
    }
   ],
   "source": [
    "log_reg_model = LogisticRegression(max_iter=1000)\n",
    "log_reg_model.fit(X_train, y_train)\n",
    "\n",
    "# Evaluation for Logistic Regression\n",
    "y_pred_log_reg = log_reg_model.predict(X_test)\n",
    "cm_log_reg = confusion_matrix(y_test, y_pred_log_reg)\n",
    "acc_log_reg = accuracy_score(y_test, y_pred_log_reg)\n",
    "precision_log_reg = precision_score(y_test, y_pred_log_reg)\n",
    "recall_log_reg = recall_score(y_test, y_pred_log_reg)\n",
    "f1_log_reg = f1_score(y_test, y_pred_log_reg)\n",
    "\n",
    "# Print Logistic Regression Results\n",
    "print(f\"Logistic Regression Accuracy: {acc_log_reg}, Precision: {precision_log_reg}, Recall: {recall_log_reg}, F1 Score: {f1_log_reg}, Confusion Matrix: {cm_log_reg}\")"
   ]
  },
  {
   "cell_type": "markdown",
   "metadata": {},
   "source": [
    "The model shows excellent performance, with an accuracy of 99.97%, indicating nearly all predictions were correct. High precision (99.94%) and perfect recall (100%) mean the model rarely makes mistakes in classifying the websites, with only 3 false positives and no false negatives. The F1 score of 99.97% confirms a strong balance between precision and recall. Overall, this model reliably and accurately identifies the websites with minimal error."
   ]
  },
  {
   "cell_type": "markdown",
   "metadata": {},
   "source": [
    "### Model 2: Decision Tree"
   ]
  },
  {
   "cell_type": "code",
   "execution_count": 6,
   "metadata": {},
   "outputs": [
    {
     "name": "stdout",
     "output_type": "stream",
     "text": [
      "Decision Tree Accuracy: 1.0, Precision: 1.0, Recall: 1.0, F1 Score: 1.0, Confusion Matrix: [[3705    0]\n",
      " [   0 5058]]\n"
     ]
    }
   ],
   "source": [
    "dt_model = DecisionTreeClassifier(random_state=123)\n",
    "dt_model.fit(X_train, y_train)\n",
    "y_pred_dt = dt_model.predict(X_test)\n",
    "\n",
    "# Evaluation for Decision Tree\n",
    "cm_dt = confusion_matrix(y_test, y_pred_dt)\n",
    "acc_dt = accuracy_score(y_test, y_pred_dt)\n",
    "precision_dt = precision_score(y_test, y_pred_dt)\n",
    "recall_dt = recall_score(y_test, y_pred_dt)\n",
    "f1_dt = f1_score(y_test, y_pred_dt)\n",
    "\n",
    "# Print Decision Tree Results\n",
    "print(f\"Decision Tree Accuracy: {acc_dt}, Precision: {precision_dt}, Recall: {recall_dt}, F1 Score: {f1_dt}, Confusion Matrix: {cm_dt}\")"
   ]
  },
  {
   "cell_type": "markdown",
   "metadata": {},
   "source": [
    "The Decision Tree model achieves perfect accuracy, precision, recall, and F1 score (all at 1.0) in identifying phishing websites, with no classification errors according to the confusion matrix. While this suggests excellent performance, it also raises concerns about overfitting."
   ]
  },
  {
   "cell_type": "markdown",
   "metadata": {},
   "source": [
    "### Model 3: Random Forest\n"
   ]
  },
  {
   "cell_type": "code",
   "execution_count": 7,
   "metadata": {},
   "outputs": [
    {
     "name": "stdout",
     "output_type": "stream",
     "text": [
      "Random Forest Accuracy: 1.0, Precision: 1.0, Recall: 1.0, F1 Score: 1.0, Confusion Matrix: [[3705    0]\n",
      " [   0 5058]]\n"
     ]
    }
   ],
   "source": [
    "rf_model = RandomForestClassifier(random_state=123)\n",
    "rf_model.fit(X_train, y_train)\n",
    "\n",
    "# Evaluation for Random Forest\n",
    "y_pred_rf = rf_model.predict(X_test)\n",
    "cm_rf = confusion_matrix(y_test, y_pred_rf)\n",
    "acc_rf = accuracy_score(y_test, y_pred_rf)\n",
    "precision_rf = precision_score(y_test, y_pred_rf)\n",
    "recall_rf = recall_score(y_test, y_pred_rf)\n",
    "f1_rf = f1_score(y_test, y_pred_rf)\n",
    "\n",
    "# Print Random Forest Results\n",
    "print(f\"Random Forest Accuracy: {acc_rf}, Precision: {precision_rf}, Recall: {recall_rf}, F1 Score: {f1_rf}, Confusion Matrix: {cm_rf}\")"
   ]
  },
  {
   "cell_type": "markdown",
   "metadata": {},
   "source": [
    "The Random Forest model, like the Decision Tree, shows perfect accuracy, precision, recall, and F1 score (all 1.0) in detecting phishing websites, correctly classifying all cases with no errors in the confusion matrix. While this indicates strong performance, it also suggests potential overfitting"
   ]
  },
  {
   "cell_type": "markdown",
   "metadata": {},
   "source": [
    "### Model 4: XGBoost"
   ]
  },
  {
   "cell_type": "code",
   "execution_count": 8,
   "metadata": {},
   "outputs": [
    {
     "name": "stdout",
     "output_type": "stream",
     "text": [
      "XGBoost Classifier Accuracy: 0.9998858838297386, Precision: 0.9998023324767741, Recall: 1.0, F1 Score: 0.9999011564693091, Confusion Matrix: [[3704    1]\n",
      " [   0 5058]]\n"
     ]
    },
    {
     "data": {
      "image/png": "[encoded data removed]",
      "text/plain": [
       "<Figure size 640x480 with 2 Axes>"
      ]
     },
     "metadata": {},
     "output_type": "display_data"
    }
   ],
   "source": [
    "# Train the XGBoost Classifier\n",
    "xgb_class = XGBClassifier()\n",
    "xgb_class.fit(X_train, y_train)\n",
    "\n",
    "# Evaluation for XGBoost Classifier\n",
    "y_pred_xgb = xgb_class.predict(X_test)\n",
    "cm_xgb = confusion_matrix(y_test, y_pred_xgb)\n",
    "acc_xgb = accuracy_score(y_test, y_pred_xgb)\n",
    "precision_xgb = precision_score(y_test, y_pred_xgb)\n",
    "recall_xgb = recall_score(y_test, y_pred_xgb)\n",
    "f1_xgb = f1_score(y_test, y_pred_xgb)\n",
    "\n",
    "# Print XGBoost Classifier Results\n",
    "print(f\"XGBoost Classifier Accuracy: {acc_xgb}, Precision: {precision_xgb}, Recall: {recall_xgb}, F1 Score: {f1_xgb}, Confusion Matrix: {cm_xgb}\")\n",
    "ConfusionMatrixDisplay(cm_xgb).plot(cmap='Blues')\n",
    "plt.title('Confusion Matrix for XGBoost Classifier')\n",
    "plt.show()"
   ]
  },
  {
   "cell_type": "markdown",
   "metadata": {},
   "source": [
    "The XGBoost model achieves an exceptionally high performance with an accuracy of 99.99%, precision of 99.98%, recall of 100%, and an F1 score of 99.99% for phishing website detection. The confusion matrix shows only one false positive and no false negatives, meaning the model rarely misclassifies phishing or legitimate websites. Unlike models with perfect scores, XGBoost's results suggest excellent predictive accuracy without signs of overfitting, as the minor misclassification indicates some generalization capability. This balance makes XGBoost a strong, reliable option for this task."
   ]
  },
  {
   "cell_type": "markdown",
   "metadata": {},
   "source": [
    "### Model 5: LightGBM"
   ]
  },
  {
   "cell_type": "code",
   "execution_count": 9,
   "metadata": {},
   "outputs": [
    {
     "name": "stdout",
     "output_type": "stream",
     "text": [
      "Baseline Accuracy: 1.0\n",
      "Baseline ROC-AUC: 1.0\n"
     ]
    }
   ],
   "source": [
    "baseline_params = {\n",
    "    'objective': 'binary', \n",
    "    'metric': 'binary_logloss',  \n",
    "    'boosting_type': 'gbdt', \n",
    "    'verbose': -1 \n",
    "\n",
    "}\n",
    "\n",
    "# Create LightGBM dataset\n",
    "train_data = lgb.Dataset(X_train, label=y_train)\n",
    "test_data = lgb.Dataset(X_test, label=y_test, reference=train_data)\n",
    "\n",
    "\n",
    "# Train the model\n",
    "model = lgb.train(baseline_params, train_data, num_boost_round=100)\n",
    "\n",
    "# Predict\n",
    "y_pred_prob = model.predict(X_test)\n",
    "y_pred = [1 if prob > 0.5 else 0 for prob in y_pred_prob]\n",
    "\n",
    "# Evaluate\n",
    "accuracy = accuracy_score(y_test, y_pred)\n",
    "roc_auc = roc_auc_score(y_test, y_pred_prob)\n",
    "\n",
    "print(f\"Baseline Accuracy: {accuracy}\")\n",
    "print(f\"Baseline ROC-AUC: {roc_auc}\")"
   ]
  },
  {
   "cell_type": "markdown",
   "metadata": {},
   "source": [
    "The baseline LightGBM model achieved an accuracy and ROC-AUC of 1.0 suggests that the model perfectly distinguishes between phishing and legitimate websites. However, such perfect scores in both accuracy and ROC-AUC can be a red flag for overfitting,"
   ]
  },
  {
   "cell_type": "markdown",
   "metadata": {},
   "source": [
    "###  DNN using TensorFlow"
   ]
  },
  {
   "cell_type": "markdown",
   "metadata": {},
   "source": [
    "The DNN was selected due to its ability to learn complex patterns in high-dimensional data while utilizing regularization techniques like dropout and batch normalization to reduce overfitting. Unlike decision trees and ensemble models like random forests and XGBoost, which can easily overfit, the DNN offers flexibility in hyperparameter tuning and employs early stopping to monitor validation loss, ensuring effective generalization on unseen data."
   ]
  },
  {
   "cell_type": "code",
   "execution_count": 10,
   "metadata": {},
   "outputs": [
    {
     "name": "stderr",
     "output_type": "stream",
     "text": [
      "c:\\Users\\Dave\\anaconda3\\envs\\learn-env\\Lib\\site-packages\\keras\\src\\layers\\core\\dense.py:87: UserWarning: Do not pass an `input_shape`/`input_dim` argument to a layer. When using Sequential models, prefer using an `Input(shape)` object as the first layer in the model instead.\n",
      "  super().__init__(activity_regularizer=activity_regularizer, **kwargs)\n"
     ]
    },
    {
     "name": "stdout",
     "output_type": "stream",
     "text": [
      "Epoch 1/5\n",
      "\u001b[1m639/639\u001b[0m \u001b[32m━━━━━━━━━━━━━━━━━━━━\u001b[0m\u001b[37m\u001b[0m \u001b[1m47s\u001b[0m 70ms/step - accuracy: 0.9785 - loss: 0.0735 - val_accuracy: 0.9993 - val_loss: 0.0086\n",
      "Epoch 2/5\n",
      "\u001b[1m639/639\u001b[0m \u001b[32m━━━━━━━━━━━━━━━━━━━━\u001b[0m\u001b[37m\u001b[0m \u001b[1m47s\u001b[0m 73ms/step - accuracy: 0.9910 - loss: 0.0864 - val_accuracy: 0.9998 - val_loss: 0.0027\n",
      "Epoch 3/5\n",
      "\u001b[1m639/639\u001b[0m \u001b[32m━━━━━━━━━━━━━━━━━━━━\u001b[0m\u001b[37m\u001b[0m \u001b[1m47s\u001b[0m 73ms/step - accuracy: 0.9963 - loss: 0.0221 - val_accuracy: 0.9986 - val_loss: 0.0085\n",
      "Epoch 4/5\n",
      "\u001b[1m639/639\u001b[0m \u001b[32m━━━━━━━━━━━━━━━━━━━━\u001b[0m\u001b[37m\u001b[0m \u001b[1m47s\u001b[0m 73ms/step - accuracy: 0.9941 - loss: 0.0679 - val_accuracy: 0.9994 - val_loss: 0.0073\n",
      "Epoch 5/5\n",
      "\u001b[1m639/639\u001b[0m \u001b[32m━━━━━━━━━━━━━━━━━━━━\u001b[0m\u001b[37m\u001b[0m \u001b[1m45s\u001b[0m 70ms/step - accuracy: 0.9978 - loss: 0.0175 - val_accuracy: 0.9997 - val_loss: 0.0070\n",
      "\u001b[1m274/274\u001b[0m \u001b[32m━━━━━━━━━━━━━━━━━━━━\u001b[0m\u001b[37m\u001b[0m \u001b[1m2s\u001b[0m 6ms/step - accuracy: 0.9998 - loss: 0.0023\n",
      "Test Accuracy: 0.9998\n",
      "\u001b[1m274/274\u001b[0m \u001b[32m━━━━━━━━━━━━━━━━━━━━\u001b[0m\u001b[37m\u001b[0m \u001b[1m2s\u001b[0m 8ms/step\n",
      "              precision    recall  f1-score   support\n",
      "\n",
      "           0       1.00      1.00      1.00      3705\n",
      "           1       1.00      1.00      1.00      5058\n",
      "\n",
      "    accuracy                           1.00      8763\n",
      "   macro avg       1.00      1.00      1.00      8763\n",
      "weighted avg       1.00      1.00      1.00      8763\n",
      "\n",
      "\u001b[1m274/274\u001b[0m \u001b[32m━━━━━━━━━━━━━━━━━━━━\u001b[0m\u001b[37m\u001b[0m \u001b[1m2s\u001b[0m 7ms/step\n",
      "ROC-AUC Score: 0.9999997331894691\n"
     ]
    }
   ],
   "source": [
    "\n",
    "model = Sequential([\n",
    "    # Input Layer + First Hidden Layer\n",
    "    Dense(256, activation='relu', input_shape=(X_train.shape[1],)),\n",
    "    BatchNormalization(),\n",
    "    Dropout(0.5),\n",
    "\n",
    "    # Second Hidden Layer\n",
    "    Dense(128, activation='relu'),\n",
    "    BatchNormalization(),\n",
    "    Dropout(0.5),\n",
    "\n",
    "    # Third Hidden Layer\n",
    "    Dense(64, activation='relu'),\n",
    "    BatchNormalization(),\n",
    "    Dropout(0.3),\n",
    "\n",
    "    # Output Layer\n",
    "    Dense(1, activation='sigmoid')  # Binary classification (phishing or not)\n",
    "])\n",
    "\n",
    "# Compile the model\n",
    "model.compile(optimizer=Adam(learning_rate=0.1),\n",
    "              loss='binary_crossentropy',\n",
    "              metrics=['accuracy'])\n",
    "\n",
    "# Early Stopping to avoid overfitting\n",
    "early_stopping = EarlyStopping(monitor='val_loss', patience=10, restore_best_weights=True)\n",
    "\n",
    "# Train the model\n",
    "history = model.fit(X_train, y_train,\n",
    "                    validation_data=(X_test, y_test),\n",
    "                    epochs=5,\n",
    "                    batch_size=32,\n",
    "                    callbacks=[early_stopping])\n",
    "\n",
    "# Evaluate on validation set\n",
    "test_loss, test_accuracy = model.evaluate(X_test, y_test)\n",
    "print(f\"Test Accuracy: {test_accuracy:.4f}\")\n",
    "\n",
    "# Predict on test set\n",
    "y_val_pred = (model.predict(X_test) > 0.5).astype(\"int32\")\n",
    "print(classification_report(y_test, y_val_pred))\n",
    "print(\"ROC-AUC Score:\", roc_auc_score(y_test, model.predict(X_test)))\n"
   ]
  },
  {
   "cell_type": "markdown",
   "metadata": {},
   "source": [
    "The DNN sequential model is created with three hidden layers using ReLU activation functions, followed by Batch Normalization and Dropout layers to improve training stability and prevent overfitting. The output layer uses a sigmoid activation function for binary classification.Early Stopping was used to avoid overfitting.\n",
    "The model excels in detecting phishing websites, achieving an ROC-AUC score of 0.99 and perfect precision, recall, and F1 scores of 1.00 for both classes. With a 100% accuracy on the test set and support values of 3705 for legitimate sites and 5058 for phishing sites, the results indicate excellent generalization."
   ]
  },
  {
   "cell_type": "markdown",
   "metadata": {},
   "source": []
  }
 ],
 "metadata": {
  "kernelspec": {
   "display_name": "learn-env",
   "language": "python",
   "name": "python3"
  },
  "language_info": {
   "codemirror_mode": {
    "name": "ipython",
    "version": 3
   },
   "file_extension": ".py",
   "mimetype": "text/x-python",
   "name": "python",
   "nbconvert_exporter": "python",
   "pygments_lexer": "ipython3",
   "version": "3.11.9"
  }
 },
 "nbformat": 4,
 "nbformat_minor": 2
}
