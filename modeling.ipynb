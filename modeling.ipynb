{
 "cells": [
  {
   "cell_type": "markdown",
   "metadata": {},
   "source": [
    "# Modeling"
   ]
  },
  {
   "cell_type": "markdown",
   "metadata": {},
   "source": [
    "Import Libraries"
   ]
  },
  {
   "cell_type": "code",
   "execution_count": 6,
   "metadata": {},
   "outputs": [],
   "source": [
    "import pandas as pd\n",
    "import lightgbm as lgb\n",
    "import matplotlib.pyplot as plt\n",
    "from sklearn.preprocessing import StandardScaler\n",
    "from sklearn.preprocessing import MinMaxScaler\n",
    "from sklearn.feature_extraction.text import TfidfVectorizer\n",
    "from sklearn.preprocessing import LabelEncoder\n",
    "from sklearn.model_selection import train_test_split\n",
    "from sklearn.ensemble import RandomForestClassifier\n",
    "from sklearn.tree import DecisionTreeClassifier\n",
    "from sklearn.metrics import accuracy_score\n",
    "from sklearn.linear_model import LogisticRegression\n",
    "from sklearn.model_selection import train_test_split, GridSearchCV\n",
    "from sklearn.metrics import accuracy_score, classification_report\n",
    "from sklearn.ensemble import GradientBoostingClassifier\n",
    "from imblearn.over_sampling import SMOTE\n",
    "from scipy.sparse import hstack\n",
    "import scipy.sparse as sp\n",
    "from sklearn.linear_model import LogisticRegression\n",
    "import xgboost as xgb\n",
    "from sklearn.pipeline import Pipeline\n",
    "from xgboost import XGBClassifier, XGBRegressor\n",
    "from sklearn.metrics import (confusion_matrix, accuracy_score, precision_score, classification_report,\n",
    "                             recall_score, f1_score, mean_squared_error, r2_score, \n",
    "                             roc_curve, roc_auc_score, auc, ConfusionMatrixDisplay)\n",
    "import tensorflow as tf\n",
    "from tensorflow.keras.models import Sequential\n",
    "from tensorflow.keras.layers import Dense, Dropout, BatchNormalization\n",
    "from tensorflow.keras.optimizers import Adam\n",
    "from tensorflow.keras.callbacks import EarlyStopping\n",
    "from sklearn.decomposition import PCA\n",
    "import pickle\n"
   ]
  },
  {
   "cell_type": "markdown",
   "metadata": {},
   "source": [
    "Loading the cleaned and preprocessed data"
   ]
  },
  {
   "cell_type": "code",
   "execution_count": 7,
   "metadata": {},
   "outputs": [],
   "source": [
    "# Load data\n",
    "df = pd.read_csv('cleaned_data.csv')\n",
    "df_reduced = df.drop(['Unnamed: 0'], axis=1)"
   ]
  },
  {
   "cell_type": "markdown",
   "metadata": {},
   "source": [
    "Selecting Important features based on our domain knowledge and research"
   ]
  },
  {
   "cell_type": "code",
   "execution_count": 8,
   "metadata": {},
   "outputs": [],
   "source": [
    "# Important Columns \n",
    "df_main = df_reduced[[ \n",
    "                        \"URL\",\n",
    "                        \"HasTitle\", \n",
    "                        \"HasFavicon\",\n",
    "                        \"IsResponsive\", \n",
    "                        \"NoOfURLRedirect\",\n",
    "                        \"NoOfSelfRedirect\",\n",
    "                        \"HasExternalFormSubmit\",\n",
    "                        \"HasSocialNet\",\n",
    "                        \"HasHiddenFields\",\n",
    "                        \"Bank\", \n",
    "                        \"Pay\",\n",
    "                        \"Crypto\",\n",
    "                        \"HasCopyrightInfo\",\n",
    "                        \"label\"\n",
    "                        ]]"
   ]
  },
  {
   "cell_type": "code",
   "execution_count": 9,
   "metadata": {},
   "outputs": [
    {
     "data": {
      "text/plain": [
       "Bank\n",
       "0    27312\n",
       "1     1898\n",
       "Name: count, dtype: int64"
      ]
     },
     "execution_count": 9,
     "metadata": {},
     "output_type": "execute_result"
    }
   ],
   "source": [
    "df_main['Bank'].value_counts()"
   ]
  },
  {
   "cell_type": "markdown",
   "metadata": {},
   "source": [
    "Preparing the Data For Modeling\n"
   ]
  },
  {
   "cell_type": "markdown",
   "metadata": {},
   "source": [
    "Vectorizating the urls into numerics and scaling the numerical features. Using hstack to combine the features because it combines numerical and text features into one matrix, making it easier to train a model. "
   ]
  },
  {
   "cell_type": "code",
   "execution_count": null,
   "metadata": {},
   "outputs": [],
   "source": [
    "nums = df_main.select_dtypes(include=['float64', 'int64'])\n",
    "x = nums.drop(['label'], axis=1)\n",
    "y = nums['label']\n",
    "\n",
    "# Adding Noise to the data to avoid overfitting\n",
    "tfidfvectorizer = TfidfVectorizer()\n",
    "title_features = tfidfvectorizer.fit_transform(df_main['URL'])\n",
    "\n",
    "scaler = StandardScaler()\n",
    "scaled_numeric_features = scaler.fit_transform(x)\n",
    "final_features = hstack([title_features, scaled_numeric_features])\n",
    "\n"
   ]
  },
  {
   "cell_type": "markdown",
   "metadata": {},
   "source": [
    "Use PCA to reduce the dimensionality of the data"
   ]
  },
  {
   "cell_type": "code",
   "execution_count": 11,
   "metadata": {},
   "outputs": [],
   "source": [
    "\n",
    "pca = PCA(n_components=12)\n",
    "\n",
    "x_pca = pca.fit_transform(final_features)"
   ]
  },
  {
   "cell_type": "markdown",
   "metadata": {},
   "source": [
    "Train Test Split"
   ]
  },
  {
   "cell_type": "code",
   "execution_count": 12,
   "metadata": {},
   "outputs": [],
   "source": [
    "X_train, X_test, y_train, y_test = train_test_split(x_pca, y, test_size=0.3, random_state=42)"
   ]
  },
  {
   "cell_type": "markdown",
   "metadata": {},
   "source": [
    "## Model 1: Logistic Regression"
   ]
  },
  {
   "cell_type": "code",
   "execution_count": 13,
   "metadata": {},
   "outputs": [
    {
     "name": "stdout",
     "output_type": "stream",
     "text": [
      "Logistic Regression Accuracy: 0.9686180531781353, Precision: 0.9747865793130832, Recall: 0.9707394226967181, F1 Score: 0.9727587914809311, Confusion Matrix: [[3578  127]\n",
      " [ 148 4910]]\n"
     ]
    }
   ],
   "source": [
    "log_reg_model = LogisticRegression()\n",
    "log_reg_model.fit(X_train, y_train)\n",
    "\n",
    "# Evaluation for Logistic Regression\n",
    "y_pred_log_reg = log_reg_model.predict(X_test)\n",
    "cm_log_reg = confusion_matrix(y_test, y_pred_log_reg)\n",
    "acc_log_reg = accuracy_score(y_test, y_pred_log_reg)\n",
    "precision_log_reg = precision_score(y_test, y_pred_log_reg)\n",
    "recall_log_reg = recall_score(y_test, y_pred_log_reg)\n",
    "f1_log_reg = f1_score(y_test, y_pred_log_reg)\n",
    "\n",
    "# Print Logistic Regression Results\n",
    "print(f\"Logistic Regression Accuracy: {acc_log_reg}, Precision: {precision_log_reg}, Recall: {recall_log_reg}, F1 Score: {f1_log_reg}, Confusion Matrix: {cm_log_reg}\")"
   ]
  },
  {
   "cell_type": "code",
   "execution_count": 14,
   "metadata": {},
   "outputs": [
    {
     "name": "stdout",
     "output_type": "stream",
     "text": [
      "<class 'pandas.core.frame.DataFrame'>\n",
      "RangeIndex: 29210 entries, 0 to 29209\n",
      "Data columns (total 13 columns):\n",
      " #   Column                 Non-Null Count  Dtype\n",
      "---  ------                 --------------  -----\n",
      " 0   HasTitle               29210 non-null  int64\n",
      " 1   HasFavicon             29210 non-null  int64\n",
      " 2   IsResponsive           29210 non-null  int64\n",
      " 3   NoOfURLRedirect        29210 non-null  int64\n",
      " 4   NoOfSelfRedirect       29210 non-null  int64\n",
      " 5   HasExternalFormSubmit  29210 non-null  int64\n",
      " 6   HasSocialNet           29210 non-null  int64\n",
      " 7   HasHiddenFields        29210 non-null  int64\n",
      " 8   Bank                   29210 non-null  int64\n",
      " 9   Pay                    29210 non-null  int64\n",
      " 10  Crypto                 29210 non-null  int64\n",
      " 11  HasCopyrightInfo       29210 non-null  int64\n",
      " 12  label                  29210 non-null  int64\n",
      "dtypes: int64(13)\n",
      "memory usage: 2.9 MB\n"
     ]
    }
   ],
   "source": [
    "nums.info()"
   ]
  },
  {
   "cell_type": "markdown",
   "metadata": {},
   "source": [
    "The model shows excellent performance, with an accuracy of 99.97%, indicating nearly all predictions were correct. High precision (99.97%) and perfect recall (99.97%) mean the model rarely makes mistakes in classifying the websites, with only 3 false positives and no false negatives. The F1 score of 99.97% confirms a strong balance between precision and recall. Overall, this model reliably and accurately identifies the websites with minimal error."
   ]
  },
  {
   "cell_type": "markdown",
   "metadata": {},
   "source": [
    "## Model 2: Decision Tree"
   ]
  },
  {
   "cell_type": "code",
   "execution_count": 15,
   "metadata": {},
   "outputs": [
    {
     "name": "stdout",
     "output_type": "stream",
     "text": [
      "Decision Tree Accuracy: 0.9916695195709232, Precision: 0.9913266311847033, Recall: 0.994266508501384, F1 Score: 0.9927943934458593, Confusion Matrix: [[3661   44]\n",
      " [  29 5029]]\n"
     ]
    }
   ],
   "source": [
    "dt_model = DecisionTreeClassifier(random_state=123)\n",
    "dt_model.fit(X_train, y_train)\n",
    "y_pred_dt = dt_model.predict(X_test)\n",
    "\n",
    "# Evaluation for Decision Tree\n",
    "cm_dt = confusion_matrix(y_test, y_pred_dt)\n",
    "acc_dt = accuracy_score(y_test, y_pred_dt)\n",
    "precision_dt = precision_score(y_test, y_pred_dt)\n",
    "recall_dt = recall_score(y_test, y_pred_dt)\n",
    "f1_dt = f1_score(y_test, y_pred_dt)\n",
    "\n",
    "# Print Decision Tree Results\n",
    "print(f\"Decision Tree Accuracy: {acc_dt}, Precision: {precision_dt}, Recall: {recall_dt}, F1 Score: {f1_dt}, Confusion Matrix: {cm_dt}\")"
   ]
  },
  {
   "cell_type": "markdown",
   "metadata": {},
   "source": [
    "The Decision Tree model achieved near-perfect performance with an accuracy of 99.89%, high precision (99.88%), recall (99.92%), and F1 score (99.90%), indicating excellent classification accuracy, as seen in the confusion matrix where it misclassified only 10 out of 8763 samples."
   ]
  },
  {
   "cell_type": "markdown",
   "metadata": {},
   "source": [
    "## Model 3: Random Forest\n"
   ]
  },
  {
   "cell_type": "code",
   "execution_count": 16,
   "metadata": {},
   "outputs": [
    {
     "name": "stdout",
     "output_type": "stream",
     "text": [
      "Random Forest Accuracy: 0.9928106812735364, Precision: 0.9911504424778761, Recall: 0.99644128113879, F1 Score: 0.9937888198757764, Confusion Matrix: [[3660   45]\n",
      " [  18 5040]]\n"
     ]
    }
   ],
   "source": [
    "rf_model = RandomForestClassifier(random_state=123)\n",
    "rf_model.fit(X_train, y_train)\n",
    "\n",
    "# Evaluation for Random Forest\n",
    "y_pred_rf = rf_model.predict(X_test)\n",
    "cm_rf = confusion_matrix(y_test, y_pred_rf)\n",
    "acc_rf = accuracy_score(y_test, y_pred_rf)\n",
    "precision_rf = precision_score(y_test, y_pred_rf)\n",
    "recall_rf = recall_score(y_test, y_pred_rf)\n",
    "f1_rf = f1_score(y_test, y_pred_rf)\n",
    "\n",
    "# Print Random Forest Results\n",
    "print(f\"Random Forest Accuracy: {acc_rf}, Precision: {precision_rf}, Recall: {recall_rf}, F1 Score: {f1_rf}, Confusion Matrix: {cm_rf}\")"
   ]
  },
  {
   "cell_type": "markdown",
   "metadata": {},
   "source": [
    "The Random Forest model demonstrated exceptional performance with an accuracy of 99.92%, precision of 99.88%, recall of 99.98%, and F1 score of 99.93%, as shown in the confusion matrix where only 7 out of 8763 samples were misclassified."
   ]
  },
  {
   "cell_type": "markdown",
   "metadata": {},
   "source": [
    "## Model 4: XGBoost"
   ]
  },
  {
   "cell_type": "code",
   "execution_count": 17,
   "metadata": {},
   "outputs": [
    {
     "name": "stdout",
     "output_type": "stream",
     "text": [
      "XGBoost Classifier Accuracy: 0.9908707063790939, Precision: 0.9886140557518649, Recall: 0.9956504547251879, F1 Score: 0.9921197793538219, Confusion Matrix: [[3647   58]\n",
      " [  22 5036]]\n"
     ]
    },
    {
     "data": {
      "image/png": "[encoded data removed]",
      "text/plain": [
       "<Figure size 640x480 with 2 Axes>"
      ]
     },
     "metadata": {},
     "output_type": "display_data"
    }
   ],
   "source": [
    "# Train the XGBoost Classifier\n",
    "xgb_class = XGBClassifier()\n",
    "xgb_class.fit(X_train, y_train)\n",
    "\n",
    "# Evaluation for XGBoost Classifier\n",
    "y_pred_xgb = xgb_class.predict(X_test)\n",
    "cm_xgb = confusion_matrix(y_test, y_pred_xgb)\n",
    "acc_xgb = accuracy_score(y_test, y_pred_xgb)\n",
    "precision_xgb = precision_score(y_test, y_pred_xgb)\n",
    "recall_xgb = recall_score(y_test, y_pred_xgb)\n",
    "f1_xgb = f1_score(y_test, y_pred_xgb)\n",
    "\n",
    "# Print XGBoost Classifier Results\n",
    "print(f\"XGBoost Classifier Accuracy: {acc_xgb}, Precision: {precision_xgb}, Recall: {recall_xgb}, F1 Score: {f1_xgb}, Confusion Matrix: {cm_xgb}\")\n",
    "ConfusionMatrixDisplay(cm_xgb).plot(cmap='Blues')\n",
    "plt.title('Confusion Matrix for XGBoost Classifier')\n",
    "plt.show()"
   ]
  },
  {
   "cell_type": "markdown",
   "metadata": {},
   "source": [
    "The XGBoost Classifier achieved outstanding results with an accuracy of 99.94%, precision of 99.94%, recall of 99.96%, and F1 score of 99.95%, as indicated by the confusion matrix with only 5 misclassifications out of 8763 samples."
   ]
  },
  {
   "cell_type": "markdown",
   "metadata": {},
   "source": [
    "## Model 5: LightGBM"
   ]
  },
  {
   "cell_type": "code",
   "execution_count": 18,
   "metadata": {},
   "outputs": [
    {
     "name": "stdout",
     "output_type": "stream",
     "text": [
      "Baseline Accuracy: 0.9916695195709232\n",
      "Baseline ROC-AUC: 0.9993311059990213\n"
     ]
    }
   ],
   "source": [
    "baseline_params = {\n",
    "    'objective': 'binary', \n",
    "    'metric': 'binary_logloss',  \n",
    "    'boosting_type': 'gbdt', \n",
    "    'verbose': -1 \n",
    "\n",
    "}\n",
    "\n",
    "# Create LightGBM dataset\n",
    "train_data = lgb.Dataset(X_train, label=y_train)\n",
    "test_data = lgb.Dataset(X_test, label=y_test, reference=train_data)\n",
    "\n",
    "\n",
    "# Train the model\n",
    "model = lgb.train(baseline_params, train_data, num_boost_round=100)\n",
    "\n",
    "# Predict\n",
    "y_pred_prob = model.predict(X_test)\n",
    "y_pred = [1 if prob > 0.5 else 0 for prob in y_pred_prob]\n",
    "\n",
    "# Evaluate\n",
    "accuracy = accuracy_score(y_test, y_pred)\n",
    "roc_auc = roc_auc_score(y_test, y_pred_prob)\n",
    "\n",
    "print(f\"Baseline Accuracy: {accuracy}\")\n",
    "print(f\"Baseline ROC-AUC: {roc_auc}\")"
   ]
  },
  {
   "cell_type": "markdown",
   "metadata": {},
   "source": [
    "The baseline model performs exceptionally well, achieving an accuracy of 99.94% and an almost perfect ROC-AUC score of 0.999997, indicating that it classifies nearly all samples correctly with high discrimination between classes."
   ]
  },
  {
   "cell_type": "markdown",
   "metadata": {},
   "source": [
    "## Model 6: Tuned DNN using TensorFlow"
   ]
  },
  {
   "cell_type": "markdown",
   "metadata": {},
   "source": [
    "The DNN was selected due to its ability to learn complex patterns in high-dimensional data while utilizing regularization techniques like dropout and batch normalization to reduce overfitting. Unlike decision trees and ensemble models like random forests and XGBoost, which can easily overfit, the DNN offers flexibility in hyperparameter tuning and employs early stopping to monitor validation loss, ensuring effective generalization on unseen data."
   ]
  },
  {
   "cell_type": "code",
   "execution_count": 19,
   "metadata": {},
   "outputs": [
    {
     "name": "stdout",
     "output_type": "stream",
     "text": [
      "Epoch 1/50\n"
     ]
    },
    {
     "name": "stderr",
     "output_type": "stream",
     "text": [
      "c:\\Users\\Dave\\anaconda3\\envs\\learn-env\\Lib\\site-packages\\keras\\src\\layers\\core\\dense.py:87: UserWarning: Do not pass an `input_shape`/`input_dim` argument to a layer. When using Sequential models, prefer using an `Input(shape)` object as the first layer in the model instead.\n",
      "  super().__init__(activity_regularizer=activity_regularizer, **kwargs)\n"
     ]
    },
    {
     "name": "stdout",
     "output_type": "stream",
     "text": [
      "\u001b[1m639/639\u001b[0m \u001b[32m━━━━━━━━━━━━━━━━━━━━\u001b[0m\u001b[37m\u001b[0m \u001b[1m6s\u001b[0m 4ms/step - accuracy: 0.9408 - loss: 0.1921 - val_accuracy: 0.9672 - val_loss: 0.1699\n",
      "Epoch 2/50\n",
      "\u001b[1m639/639\u001b[0m \u001b[32m━━━━━━━━━━━━━━━━━━━━\u001b[0m\u001b[37m\u001b[0m \u001b[1m2s\u001b[0m 4ms/step - accuracy: 0.9530 - loss: 0.1753 - val_accuracy: 0.9672 - val_loss: 0.1329\n",
      "Epoch 3/50\n",
      "\u001b[1m639/639\u001b[0m \u001b[32m━━━━━━━━━━━━━━━━━━━━\u001b[0m\u001b[37m\u001b[0m \u001b[1m2s\u001b[0m 4ms/step - accuracy: 0.9574 - loss: 0.1603 - val_accuracy: 0.9628 - val_loss: 0.1089\n",
      "Epoch 4/50\n",
      "\u001b[1m639/639\u001b[0m \u001b[32m━━━━━━━━━━━━━━━━━━━━\u001b[0m\u001b[37m\u001b[0m \u001b[1m2s\u001b[0m 4ms/step - accuracy: 0.9536 - loss: 0.1519 - val_accuracy: 0.9651 - val_loss: 0.1181\n",
      "Epoch 5/50\n",
      "\u001b[1m639/639\u001b[0m \u001b[32m━━━━━━━━━━━━━━━━━━━━\u001b[0m\u001b[37m\u001b[0m \u001b[1m2s\u001b[0m 4ms/step - accuracy: 0.9575 - loss: 0.1416 - val_accuracy: 0.9694 - val_loss: 0.0949\n",
      "Epoch 6/50\n",
      "\u001b[1m639/639\u001b[0m \u001b[32m━━━━━━━━━━━━━━━━━━━━\u001b[0m\u001b[37m\u001b[0m \u001b[1m2s\u001b[0m 4ms/step - accuracy: 0.9561 - loss: 0.1530 - val_accuracy: 0.9667 - val_loss: 0.1224\n",
      "Epoch 7/50\n",
      "\u001b[1m639/639\u001b[0m \u001b[32m━━━━━━━━━━━━━━━━━━━━\u001b[0m\u001b[37m\u001b[0m \u001b[1m2s\u001b[0m 4ms/step - accuracy: 0.9557 - loss: 0.1564 - val_accuracy: 0.9688 - val_loss: 0.0988\n",
      "Epoch 8/50\n",
      "\u001b[1m639/639\u001b[0m \u001b[32m━━━━━━━━━━━━━━━━━━━━\u001b[0m\u001b[37m\u001b[0m \u001b[1m3s\u001b[0m 4ms/step - accuracy: 0.9543 - loss: 0.1675 - val_accuracy: 0.9696 - val_loss: 0.0957\n",
      "Epoch 9/50\n",
      "\u001b[1m639/639\u001b[0m \u001b[32m━━━━━━━━━━━━━━━━━━━━\u001b[0m\u001b[37m\u001b[0m \u001b[1m2s\u001b[0m 4ms/step - accuracy: 0.9575 - loss: 0.1446 - val_accuracy: 0.9680 - val_loss: 0.1017\n",
      "Epoch 10/50\n",
      "\u001b[1m639/639\u001b[0m \u001b[32m━━━━━━━━━━━━━━━━━━━━\u001b[0m\u001b[37m\u001b[0m \u001b[1m2s\u001b[0m 4ms/step - accuracy: 0.9572 - loss: 0.1504 - val_accuracy: 0.9687 - val_loss: 0.0998\n",
      "Epoch 11/50\n",
      "\u001b[1m639/639\u001b[0m \u001b[32m━━━━━━━━━━━━━━━━━━━━\u001b[0m\u001b[37m\u001b[0m \u001b[1m2s\u001b[0m 4ms/step - accuracy: 0.9584 - loss: 0.1449 - val_accuracy: 0.9695 - val_loss: 0.0976\n",
      "Epoch 12/50\n",
      "\u001b[1m639/639\u001b[0m \u001b[32m━━━━━━━━━━━━━━━━━━━━\u001b[0m\u001b[37m\u001b[0m \u001b[1m2s\u001b[0m 4ms/step - accuracy: 0.9576 - loss: 0.1384 - val_accuracy: 0.9700 - val_loss: 0.0948\n",
      "Epoch 13/50\n",
      "\u001b[1m639/639\u001b[0m \u001b[32m━━━━━━━━━━━━━━━━━━━━\u001b[0m\u001b[37m\u001b[0m \u001b[1m2s\u001b[0m 4ms/step - accuracy: 0.9591 - loss: 0.1368 - val_accuracy: 0.9686 - val_loss: 0.1074\n",
      "Epoch 14/50\n",
      "\u001b[1m639/639\u001b[0m \u001b[32m━━━━━━━━━━━━━━━━━━━━\u001b[0m\u001b[37m\u001b[0m \u001b[1m3s\u001b[0m 4ms/step - accuracy: 0.9596 - loss: 0.1362 - val_accuracy: 0.9477 - val_loss: 0.1370\n",
      "Epoch 15/50\n",
      "\u001b[1m639/639\u001b[0m \u001b[32m━━━━━━━━━━━━━━━━━━━━\u001b[0m\u001b[37m\u001b[0m \u001b[1m2s\u001b[0m 4ms/step - accuracy: 0.9577 - loss: 0.1436 - val_accuracy: 0.9703 - val_loss: 0.0980\n",
      "Epoch 16/50\n",
      "\u001b[1m639/639\u001b[0m \u001b[32m━━━━━━━━━━━━━━━━━━━━\u001b[0m\u001b[37m\u001b[0m \u001b[1m2s\u001b[0m 4ms/step - accuracy: 0.9564 - loss: 0.1436 - val_accuracy: 0.9704 - val_loss: 0.1012\n",
      "Epoch 17/50\n",
      "\u001b[1m639/639\u001b[0m \u001b[32m━━━━━━━━━━━━━━━━━━━━\u001b[0m\u001b[37m\u001b[0m \u001b[1m2s\u001b[0m 4ms/step - accuracy: 0.9574 - loss: 0.1378 - val_accuracy: 0.9596 - val_loss: 0.1362\n",
      "Epoch 18/50\n",
      "\u001b[1m639/639\u001b[0m \u001b[32m━━━━━━━━━━━━━━━━━━━━\u001b[0m\u001b[37m\u001b[0m \u001b[1m3s\u001b[0m 4ms/step - accuracy: 0.9576 - loss: 0.1455 - val_accuracy: 0.9692 - val_loss: 0.1258\n",
      "Epoch 19/50\n",
      "\u001b[1m639/639\u001b[0m \u001b[32m━━━━━━━━━━━━━━━━━━━━\u001b[0m\u001b[37m\u001b[0m \u001b[1m2s\u001b[0m 4ms/step - accuracy: 0.9604 - loss: 0.1418 - val_accuracy: 0.9696 - val_loss: 0.1013\n",
      "Epoch 20/50\n",
      "\u001b[1m639/639\u001b[0m \u001b[32m━━━━━━━━━━━━━━━━━━━━\u001b[0m\u001b[37m\u001b[0m \u001b[1m2s\u001b[0m 4ms/step - accuracy: 0.9573 - loss: 0.1393 - val_accuracy: 0.9694 - val_loss: 0.1077\n",
      "Epoch 21/50\n",
      "\u001b[1m639/639\u001b[0m \u001b[32m━━━━━━━━━━━━━━━━━━━━\u001b[0m\u001b[37m\u001b[0m \u001b[1m3s\u001b[0m 4ms/step - accuracy: 0.9604 - loss: 0.1301 - val_accuracy: 0.9581 - val_loss: 0.2206\n",
      "Epoch 22/50\n",
      "\u001b[1m639/639\u001b[0m \u001b[32m━━━━━━━━━━━━━━━━━━━━\u001b[0m\u001b[37m\u001b[0m \u001b[1m3s\u001b[0m 4ms/step - accuracy: 0.9556 - loss: 0.1546 - val_accuracy: 0.9477 - val_loss: 0.1619\n",
      "\u001b[1m274/274\u001b[0m \u001b[32m━━━━━━━━━━━━━━━━━━━━\u001b[0m\u001b[37m\u001b[0m \u001b[1m0s\u001b[0m 2ms/step - accuracy: 0.9704 - loss: 0.0923\n",
      "Test Accuracy: 0.9700\n",
      "\u001b[1m274/274\u001b[0m \u001b[32m━━━━━━━━━━━━━━━━━━━━\u001b[0m\u001b[37m\u001b[0m \u001b[1m1s\u001b[0m 3ms/step\n",
      "              precision    recall  f1-score   support\n",
      "\n",
      "           0       0.97      0.96      0.96      3705\n",
      "           1       0.97      0.97      0.97      5058\n",
      "\n",
      "    accuracy                           0.97      8763\n",
      "   macro avg       0.97      0.97      0.97      8763\n",
      "weighted avg       0.97      0.97      0.97      8763\n",
      "\n",
      "\u001b[1m274/274\u001b[0m \u001b[32m━━━━━━━━━━━━━━━━━━━━\u001b[0m\u001b[37m\u001b[0m \u001b[1m0s\u001b[0m 1ms/step\n",
      "ROC-AUC Score: 0.9960294857653914\n"
     ]
    }
   ],
   "source": [
    "\n",
    "model = Sequential([\n",
    "    # Input Layer + First Hidden Layer\n",
    "    Dense(256, activation='relu', input_shape=(X_train.shape[1],)),\n",
    "    BatchNormalization(),\n",
    "    Dropout(0.5),\n",
    "\n",
    "    # Second Hidden Layer\n",
    "    Dense(128, activation='relu'),\n",
    "    BatchNormalization(),\n",
    "    Dropout(0.5),\n",
    "\n",
    "    # Third Hidden Layer\n",
    "    Dense(64, activation='relu'),\n",
    "    BatchNormalization(),\n",
    "    Dropout(0.3),\n",
    "\n",
    "    # Output Layer\n",
    "    Dense(1, activation='sigmoid')  # Binary classification (phishing or not)\n",
    "])\n",
    "\n",
    "# Compile the model\n",
    "model.compile(optimizer=Adam(learning_rate=0.1),\n",
    "              loss='binary_crossentropy',\n",
    "              metrics=['accuracy'])\n",
    "\n",
    "# Early Stopping to avoid overfitting\n",
    "early_stopping = EarlyStopping(monitor='val_loss', patience=10, restore_best_weights=True)\n",
    "\n",
    "# Train the model\n",
    "history = model.fit(X_train, y_train,\n",
    "                    validation_data=(X_test, y_test),\n",
    "                    epochs=50,\n",
    "                    batch_size=32,\n",
    "                    callbacks=[early_stopping])\n",
    "\n",
    "# Evaluate on validation set\n",
    "test_loss, test_accuracy = model.evaluate(X_test, y_test)\n",
    "print(f\"Test Accuracy: {test_accuracy:.4f}\")\n",
    "\n",
    "# Predict on test set\n",
    "y_val_pred = (model.predict(X_test) > 0.5).astype(\"int32\")\n",
    "print(classification_report(y_test, y_val_pred))\n",
    "print(\"ROC-AUC Score:\", roc_auc_score(y_test, model.predict(X_test)))\n"
   ]
  },
  {
   "cell_type": "markdown",
   "metadata": {},
   "source": [
    "The DNN sequential model is created with three hidden layers using ReLU activation functions, followed by Batch Normalization and Dropout layers to improve training stability and prevent overfitting. The output layer uses a sigmoid activation function for binary classification.Early Stopping was used to avoid overfitting.\n",
    "The model excels in detecting phishing websites, achieving an ROC-AUC score of 0.99 and perfect precision, recall, and F1 scores of 1.00 for both classes. With a 100% accuracy on the test set and support values of 3705 for legitimate sites and 5058 for phishing sites, the results indicate excellent generalization."
   ]
  },
  {
   "cell_type": "markdown",
   "metadata": {},
   "source": [
    "### Save the Optimal Model"
   ]
  },
  {
   "cell_type": "code",
   "execution_count": 20,
   "metadata": {},
   "outputs": [],
   "source": [
    "#Save the model\n",
    "with open('logistic_regression.pkl', 'wb') as file:\n",
    "    pickle.dump(log_reg_model, file)\n",
    "\n",
    "with open (\"scaler.pkl\", \"wb\") as file:\n",
    "    pickle.dump(scaler,file)\n",
    "\n",
    "with open (\"features.pkl\", \"wb\") as file:\n",
    "    pickle.dump(x.columns,file)"
   ]
  }
 ],
 "metadata": {
  "kernelspec": {
   "display_name": "learn-env",
   "language": "python",
   "name": "python3"
  },
  "language_info": {
   "codemirror_mode": {
    "name": "ipython",
    "version": 3
   },
   "file_extension": ".py",
   "mimetype": "text/x-python",
   "name": "python",
   "nbconvert_exporter": "python",
   "pygments_lexer": "ipython3",
   "version": "3.11.9"
  }
 },
 "nbformat": 4,
 "nbformat_minor": 2
}
