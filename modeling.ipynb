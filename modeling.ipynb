{
 "cells": [
  {
   "cell_type": "markdown",
   "metadata": {},
   "source": [
    "# Modeling"
   ]
  },
  {
   "cell_type": "markdown",
   "metadata": {},
   "source": [
    "Import Libraries"
   ]
  },
  {
   "cell_type": "code",
   "execution_count": 1,
   "metadata": {},
   "outputs": [],
   "source": [
    "import pandas as pd\n",
    "import lightgbm as lgb\n",
    "import matplotlib.pyplot as plt\n",
    "from sklearn.preprocessing import StandardScaler\n",
    "from sklearn.feature_extraction.text import TfidfVectorizer\n",
    "from sklearn.preprocessing import LabelEncoder\n",
    "from sklearn.model_selection import train_test_split\n",
    "from sklearn.ensemble import RandomForestClassifier\n",
    "from sklearn.tree import DecisionTreeClassifier\n",
    "from sklearn.metrics import accuracy_score\n",
    "from sklearn.linear_model import LogisticRegression\n",
    "from sklearn.model_selection import train_test_split, GridSearchCV\n",
    "from sklearn.metrics import accuracy_score, classification_report\n",
    "from sklearn.ensemble import GradientBoostingClassifier\n",
    "from imblearn.over_sampling import SMOTE\n",
    "from scipy.sparse import hstack\n",
    "import scipy.sparse as sp\n",
    "from sklearn.linear_model import LogisticRegression\n",
    "import xgboost as xgb\n",
    "from sklearn.pipeline import Pipeline\n",
    "from xgboost import XGBClassifier, XGBRegressor\n",
    "from sklearn.metrics import (confusion_matrix, accuracy_score, precision_score, classification_report,\n",
    "                             recall_score, f1_score, mean_squared_error, r2_score, \n",
    "                             roc_curve, roc_auc_score, auc, ConfusionMatrixDisplay)\n",
    "import tensorflow as tf\n",
    "from tensorflow.keras.models import Sequential\n",
    "from tensorflow.keras.layers import Dense, Dropout, BatchNormalization\n",
    "from tensorflow.keras.optimizers import Adam\n",
    "from tensorflow.keras.callbacks import EarlyStopping\n",
    "from sklearn.decomposition import PCA\n",
    "import pickle\n"
   ]
  },
  {
   "cell_type": "markdown",
   "metadata": {},
   "source": [
    "Loading the cleaned and preprocessed data"
   ]
  },
  {
   "cell_type": "code",
   "execution_count": 2,
   "metadata": {},
   "outputs": [],
   "source": [
    "# Load data\n",
    "df = pd.read_csv('cleaned_data.csv')\n",
    "df_reduced = df.drop(['Unnamed: 0'], axis=1)"
   ]
  },
  {
   "cell_type": "markdown",
   "metadata": {},
   "source": [
    "Selecting Important features based on our domain knowledge and research"
   ]
  },
  {
   "cell_type": "code",
   "execution_count": 3,
   "metadata": {},
   "outputs": [],
   "source": [
    "# Important Columns \n",
    "df_main = df_reduced[[\"URL\",\n",
    "                        \"HasTitle\", \n",
    "                        \"HasFavicon\",\n",
    "                        \"IsResponsive\", \n",
    "                        \"NoOfURLRedirect\",\n",
    "                        \"NoOfSelfRedirect\",\n",
    "                        \"HasExternalFormSubmit\",\n",
    "                        \"HasSocialNet\",\n",
    "                        \"HasHiddenFields\",\n",
    "                        \"Bank\", \n",
    "                        \"Pay\",\n",
    "                        \"Crypto\",\n",
    "                        \"HasCopyrightInfo\",\n",
    "                        \"label\"\n",
    "                        ]]"
   ]
  },
  {
   "cell_type": "code",
   "execution_count": 23,
   "metadata": {},
   "outputs": [
    {
     "data": {
      "text/plain": [
       "Bank\n",
       "0    27312\n",
       "1     1898\n",
       "Name: count, dtype: int64"
      ]
     },
     "execution_count": 23,
     "metadata": {},
     "output_type": "execute_result"
    }
   ],
   "source": [
    "df_main['Bank'].value_counts()"
   ]
  },
  {
   "cell_type": "markdown",
   "metadata": {},
   "source": [
    "Preparing the Data For Modeling\n"
   ]
  },
  {
   "cell_type": "markdown",
   "metadata": {},
   "source": [
    "Vectorizating the urls into numerics and scaling the numerical features. Using hstack to combine the features because it combines numerical and text features into one matrix, making it easier to train a model. "
   ]
  },
  {
   "cell_type": "code",
   "execution_count": 4,
   "metadata": {},
   "outputs": [],
   "source": [
    "nums = df_main.select_dtypes(include=['float64', 'int64'])\n",
    "#nums = nums.drop(['label'], axis=1)\n",
    "\n",
    "tfidfvectorizer = TfidfVectorizer()\n",
    "title_features = tfidfvectorizer.fit_transform(df_main['URL'])\n",
    "\n",
    "scaler = StandardScaler()\n",
    "scaled_numeric_features = scaler.fit_transform(nums)\n",
    "final_features = hstack([title_features, scaled_numeric_features])\n",
    "\n"
   ]
  },
  {
   "cell_type": "markdown",
   "metadata": {},
   "source": [
    "Use PCA to reduce the dimensionality of the data"
   ]
  },
  {
   "cell_type": "code",
   "execution_count": 5,
   "metadata": {},
   "outputs": [],
   "source": [
    "\n",
    "pca = PCA(n_components=10)\n",
    "\n",
    "x_pca = pca.fit_transform(final_features)"
   ]
  },
  {
   "cell_type": "markdown",
   "metadata": {},
   "source": [
    "Train Test Split"
   ]
  },
  {
   "cell_type": "code",
   "execution_count": 6,
   "metadata": {},
   "outputs": [],
   "source": [
    "X_train, X_test, y_train, y_test = train_test_split(x_pca, nums[\"label\"], test_size=0.3, random_state=42)"
   ]
  },
  {
   "cell_type": "markdown",
   "metadata": {},
   "source": [
    "## Model 1: Logistic Regression"
   ]
  },
  {
   "cell_type": "code",
   "execution_count": 7,
   "metadata": {},
   "outputs": [
    {
     "name": "stdout",
     "output_type": "stream",
     "text": [
      "Logistic Regression Accuracy: 0.9920118680817072, Precision: 0.9915254237288136, Recall: 0.994661921708185, F1 Score: 0.9930911962100276, Confusion Matrix: [[3662   43]\n",
      " [  27 5031]]\n"
     ]
    }
   ],
   "source": [
    "log_reg_model = LogisticRegression()\n",
    "log_reg_model.fit(X_train, y_train)\n",
    "\n",
    "# Evaluation for Logistic Regression\n",
    "y_pred_log_reg = log_reg_model.predict(X_test)\n",
    "cm_log_reg = confusion_matrix(y_test, y_pred_log_reg)\n",
    "acc_log_reg = accuracy_score(y_test, y_pred_log_reg)\n",
    "precision_log_reg = precision_score(y_test, y_pred_log_reg)\n",
    "recall_log_reg = recall_score(y_test, y_pred_log_reg)\n",
    "f1_log_reg = f1_score(y_test, y_pred_log_reg)\n",
    "\n",
    "# Print Logistic Regression Results\n",
    "print(f\"Logistic Regression Accuracy: {acc_log_reg}, Precision: {precision_log_reg}, Recall: {recall_log_reg}, F1 Score: {f1_log_reg}, Confusion Matrix: {cm_log_reg}\")"
   ]
  },
  {
   "cell_type": "code",
   "execution_count": 8,
   "metadata": {},
   "outputs": [
    {
     "name": "stdout",
     "output_type": "stream",
     "text": [
      "<class 'pandas.core.frame.DataFrame'>\n",
      "RangeIndex: 29210 entries, 0 to 29209\n",
      "Data columns (total 13 columns):\n",
      " #   Column                 Non-Null Count  Dtype\n",
      "---  ------                 --------------  -----\n",
      " 0   HasTitle               29210 non-null  int64\n",
      " 1   HasFavicon             29210 non-null  int64\n",
      " 2   IsResponsive           29210 non-null  int64\n",
      " 3   NoOfURLRedirect        29210 non-null  int64\n",
      " 4   NoOfSelfRedirect       29210 non-null  int64\n",
      " 5   HasExternalFormSubmit  29210 non-null  int64\n",
      " 6   HasSocialNet           29210 non-null  int64\n",
      " 7   HasHiddenFields        29210 non-null  int64\n",
      " 8   Bank                   29210 non-null  int64\n",
      " 9   Pay                    29210 non-null  int64\n",
      " 10  Crypto                 29210 non-null  int64\n",
      " 11  HasCopyrightInfo       29210 non-null  int64\n",
      " 12  label                  29210 non-null  int64\n",
      "dtypes: int64(13)\n",
      "memory usage: 2.9 MB\n"
     ]
    }
   ],
   "source": [
    "nums.info()"
   ]
  },
  {
   "cell_type": "markdown",
   "metadata": {},
   "source": [
    "The model shows excellent performance, with an accuracy of 99.97%, indicating nearly all predictions were correct. High precision (99.97%) and perfect recall (99.97%) mean the model rarely makes mistakes in classifying the websites, with only 3 false positives and no false negatives. The F1 score of 99.97% confirms a strong balance between precision and recall. Overall, this model reliably and accurately identifies the websites with minimal error."
   ]
  },
  {
   "cell_type": "markdown",
   "metadata": {},
   "source": [
    "## Model 2: Decision Tree"
   ]
  },
  {
   "cell_type": "code",
   "execution_count": 9,
   "metadata": {},
   "outputs": [
    {
     "name": "stdout",
     "output_type": "stream",
     "text": [
      "Decision Tree Accuracy: 0.998630605956864, Precision: 0.9990110759493671, Recall: 0.9986160537761961, F1 Score: 0.9988135258058137, Confusion Matrix: [[3700    5]\n",
      " [   7 5051]]\n"
     ]
    }
   ],
   "source": [
    "dt_model = DecisionTreeClassifier(random_state=123)\n",
    "dt_model.fit(X_train, y_train)\n",
    "y_pred_dt = dt_model.predict(X_test)\n",
    "\n",
    "# Evaluation for Decision Tree\n",
    "cm_dt = confusion_matrix(y_test, y_pred_dt)\n",
    "acc_dt = accuracy_score(y_test, y_pred_dt)\n",
    "precision_dt = precision_score(y_test, y_pred_dt)\n",
    "recall_dt = recall_score(y_test, y_pred_dt)\n",
    "f1_dt = f1_score(y_test, y_pred_dt)\n",
    "\n",
    "# Print Decision Tree Results\n",
    "print(f\"Decision Tree Accuracy: {acc_dt}, Precision: {precision_dt}, Recall: {recall_dt}, F1 Score: {f1_dt}, Confusion Matrix: {cm_dt}\")"
   ]
  },
  {
   "cell_type": "markdown",
   "metadata": {},
   "source": [
    "The Decision Tree model achieved near-perfect performance with an accuracy of 99.89%, high precision (99.88%), recall (99.92%), and F1 score (99.90%), indicating excellent classification accuracy, as seen in the confusion matrix where it misclassified only 10 out of 8763 samples."
   ]
  },
  {
   "cell_type": "markdown",
   "metadata": {},
   "source": [
    "## Model 3: Random Forest\n"
   ]
  },
  {
   "cell_type": "code",
   "execution_count": 10,
   "metadata": {},
   "outputs": [
    {
     "name": "stdout",
     "output_type": "stream",
     "text": [
      "Random Forest Accuracy: 0.999657651489216, Precision: 0.999407231772377, Recall: 1.0, F1 Score: 0.9997035280166024, Confusion Matrix: [[3702    3]\n",
      " [   0 5058]]\n"
     ]
    }
   ],
   "source": [
    "rf_model = RandomForestClassifier(random_state=123)\n",
    "rf_model.fit(X_train, y_train)\n",
    "\n",
    "# Evaluation for Random Forest\n",
    "y_pred_rf = rf_model.predict(X_test)\n",
    "cm_rf = confusion_matrix(y_test, y_pred_rf)\n",
    "acc_rf = accuracy_score(y_test, y_pred_rf)\n",
    "precision_rf = precision_score(y_test, y_pred_rf)\n",
    "recall_rf = recall_score(y_test, y_pred_rf)\n",
    "f1_rf = f1_score(y_test, y_pred_rf)\n",
    "\n",
    "# Print Random Forest Results\n",
    "print(f\"Random Forest Accuracy: {acc_rf}, Precision: {precision_rf}, Recall: {recall_rf}, F1 Score: {f1_rf}, Confusion Matrix: {cm_rf}\")"
   ]
  },
  {
   "cell_type": "markdown",
   "metadata": {},
   "source": [
    "The Random Forest model demonstrated exceptional performance with an accuracy of 99.92%, precision of 99.88%, recall of 99.98%, and F1 score of 99.93%, as shown in the confusion matrix where only 7 out of 8763 samples were misclassified."
   ]
  },
  {
   "cell_type": "markdown",
   "metadata": {},
   "source": [
    "## Model 4: XGBoost"
   ]
  },
  {
   "cell_type": "code",
   "execution_count": 11,
   "metadata": {},
   "outputs": [
    {
     "name": "stdout",
     "output_type": "stream",
     "text": [
      "XGBoost Classifier Accuracy: 0.9992011868081707, Precision: 0.9990120529539617, Recall: 0.9996045867931989, F1 Score: 0.999308232038739, Confusion Matrix: [[3700    5]\n",
      " [   2 5056]]\n"
     ]
    },
    {
     "data": {
      "image/png": "[encoded data removed]",
      "text/plain": [
       "<Figure size 640x480 with 2 Axes>"
      ]
     },
     "metadata": {},
     "output_type": "display_data"
    }
   ],
   "source": [
    "# Train the XGBoost Classifier\n",
    "xgb_class = XGBClassifier()\n",
    "xgb_class.fit(X_train, y_train)\n",
    "\n",
    "# Evaluation for XGBoost Classifier\n",
    "y_pred_xgb = xgb_class.predict(X_test)\n",
    "cm_xgb = confusion_matrix(y_test, y_pred_xgb)\n",
    "acc_xgb = accuracy_score(y_test, y_pred_xgb)\n",
    "precision_xgb = precision_score(y_test, y_pred_xgb)\n",
    "recall_xgb = recall_score(y_test, y_pred_xgb)\n",
    "f1_xgb = f1_score(y_test, y_pred_xgb)\n",
    "\n",
    "# Print XGBoost Classifier Results\n",
    "print(f\"XGBoost Classifier Accuracy: {acc_xgb}, Precision: {precision_xgb}, Recall: {recall_xgb}, F1 Score: {f1_xgb}, Confusion Matrix: {cm_xgb}\")\n",
    "ConfusionMatrixDisplay(cm_xgb).plot(cmap='Blues')\n",
    "plt.title('Confusion Matrix for XGBoost Classifier')\n",
    "plt.show()"
   ]
  },
  {
   "cell_type": "markdown",
   "metadata": {},
   "source": [
    "The XGBoost Classifier achieved outstanding results with an accuracy of 99.94%, precision of 99.94%, recall of 99.96%, and F1 score of 99.95%, as indicated by the confusion matrix with only 5 misclassifications out of 8763 samples."
   ]
  },
  {
   "cell_type": "markdown",
   "metadata": {},
   "source": [
    "## Model 5: LightGBM"
   ]
  },
  {
   "cell_type": "code",
   "execution_count": 12,
   "metadata": {},
   "outputs": [
    {
     "name": "stdout",
     "output_type": "stream",
     "text": [
      "Baseline Accuracy: 0.9993153029784321\n",
      "Baseline ROC-AUC: 0.9999771076564483\n"
     ]
    }
   ],
   "source": [
    "baseline_params = {\n",
    "    'objective': 'binary', \n",
    "    'metric': 'binary_logloss',  \n",
    "    'boosting_type': 'gbdt', \n",
    "    'verbose': -1 \n",
    "\n",
    "}\n",
    "\n",
    "# Create LightGBM dataset\n",
    "train_data = lgb.Dataset(X_train, label=y_train)\n",
    "test_data = lgb.Dataset(X_test, label=y_test, reference=train_data)\n",
    "\n",
    "\n",
    "# Train the model\n",
    "model = lgb.train(baseline_params, train_data, num_boost_round=100)\n",
    "\n",
    "# Predict\n",
    "y_pred_prob = model.predict(X_test)\n",
    "y_pred = [1 if prob > 0.5 else 0 for prob in y_pred_prob]\n",
    "\n",
    "# Evaluate\n",
    "accuracy = accuracy_score(y_test, y_pred)\n",
    "roc_auc = roc_auc_score(y_test, y_pred_prob)\n",
    "\n",
    "print(f\"Baseline Accuracy: {accuracy}\")\n",
    "print(f\"Baseline ROC-AUC: {roc_auc}\")"
   ]
  },
  {
   "cell_type": "markdown",
   "metadata": {},
   "source": [
    "The baseline model performs exceptionally well, achieving an accuracy of 99.94% and an almost perfect ROC-AUC score of 0.999997, indicating that it classifies nearly all samples correctly with high discrimination between classes."
   ]
  },
  {
   "cell_type": "markdown",
   "metadata": {},
   "source": [
    "## Model 6: Tuned DNN using TensorFlow"
   ]
  },
  {
   "cell_type": "markdown",
   "metadata": {},
   "source": [
    "The DNN was selected due to its ability to learn complex patterns in high-dimensional data while utilizing regularization techniques like dropout and batch normalization to reduce overfitting. Unlike decision trees and ensemble models like random forests and XGBoost, which can easily overfit, the DNN offers flexibility in hyperparameter tuning and employs early stopping to monitor validation loss, ensuring effective generalization on unseen data."
   ]
  },
  {
   "cell_type": "code",
   "execution_count": 13,
   "metadata": {},
   "outputs": [
    {
     "name": "stdout",
     "output_type": "stream",
     "text": [
      "Epoch 1/50\n"
     ]
    },
    {
     "name": "stderr",
     "output_type": "stream",
     "text": [
      "c:\\Users\\Dave\\anaconda3\\envs\\learn-env\\Lib\\site-packages\\keras\\src\\layers\\core\\dense.py:87: UserWarning: Do not pass an `input_shape`/`input_dim` argument to a layer. When using Sequential models, prefer using an `Input(shape)` object as the first layer in the model instead.\n",
      "  super().__init__(activity_regularizer=activity_regularizer, **kwargs)\n"
     ]
    },
    {
     "name": "stdout",
     "output_type": "stream",
     "text": [
      "\u001b[1m639/639\u001b[0m \u001b[32m━━━━━━━━━━━━━━━━━━━━\u001b[0m\u001b[37m\u001b[0m \u001b[1m6s\u001b[0m 4ms/step - accuracy: 0.9558 - loss: 0.1344 - val_accuracy: 0.9836 - val_loss: 0.0644\n",
      "Epoch 2/50\n",
      "\u001b[1m639/639\u001b[0m \u001b[32m━━━━━━━━━━━━━━━━━━━━\u001b[0m\u001b[37m\u001b[0m \u001b[1m2s\u001b[0m 4ms/step - accuracy: 0.9786 - loss: 0.0844 - val_accuracy: 0.9855 - val_loss: 0.0355\n",
      "Epoch 3/50\n",
      "\u001b[1m639/639\u001b[0m \u001b[32m━━━━━━━━━━━━━━━━━━━━\u001b[0m\u001b[37m\u001b[0m \u001b[1m2s\u001b[0m 4ms/step - accuracy: 0.9821 - loss: 0.0777 - val_accuracy: 0.9924 - val_loss: 0.0214\n",
      "Epoch 4/50\n",
      "\u001b[1m639/639\u001b[0m \u001b[32m━━━━━━━━━━━━━━━━━━━━\u001b[0m\u001b[37m\u001b[0m \u001b[1m3s\u001b[0m 4ms/step - accuracy: 0.9836 - loss: 0.0637 - val_accuracy: 0.9922 - val_loss: 0.0205\n",
      "Epoch 5/50\n",
      "\u001b[1m639/639\u001b[0m \u001b[32m━━━━━━━━━━━━━━━━━━━━\u001b[0m\u001b[37m\u001b[0m \u001b[1m2s\u001b[0m 4ms/step - accuracy: 0.9862 - loss: 0.0576 - val_accuracy: 0.9928 - val_loss: 0.0473\n",
      "Epoch 6/50\n",
      "\u001b[1m639/639\u001b[0m \u001b[32m━━━━━━━━━━━━━━━━━━━━\u001b[0m\u001b[37m\u001b[0m \u001b[1m2s\u001b[0m 4ms/step - accuracy: 0.9884 - loss: 0.0546 - val_accuracy: 0.9821 - val_loss: 0.1468\n",
      "Epoch 7/50\n",
      "\u001b[1m639/639\u001b[0m \u001b[32m━━━━━━━━━━━━━━━━━━━━\u001b[0m\u001b[37m\u001b[0m \u001b[1m2s\u001b[0m 3ms/step - accuracy: 0.9876 - loss: 0.0580 - val_accuracy: 0.9945 - val_loss: 0.0222\n",
      "Epoch 8/50\n",
      "\u001b[1m639/639\u001b[0m \u001b[32m━━━━━━━━━━━━━━━━━━━━\u001b[0m\u001b[37m\u001b[0m \u001b[1m2s\u001b[0m 4ms/step - accuracy: 0.9805 - loss: 0.1065 - val_accuracy: 0.9927 - val_loss: 0.0204\n",
      "Epoch 9/50\n",
      "\u001b[1m639/639\u001b[0m \u001b[32m━━━━━━━━━━━━━━━━━━━━\u001b[0m\u001b[37m\u001b[0m \u001b[1m2s\u001b[0m 4ms/step - accuracy: 0.9895 - loss: 0.0459 - val_accuracy: 0.9920 - val_loss: 0.0198\n",
      "Epoch 10/50\n",
      "\u001b[1m639/639\u001b[0m \u001b[32m━━━━━━━━━━━━━━━━━━━━\u001b[0m\u001b[37m\u001b[0m \u001b[1m2s\u001b[0m 4ms/step - accuracy: 0.9877 - loss: 0.0622 - val_accuracy: 0.9943 - val_loss: 0.0259\n",
      "Epoch 11/50\n",
      "\u001b[1m639/639\u001b[0m \u001b[32m━━━━━━━━━━━━━━━━━━━━\u001b[0m\u001b[37m\u001b[0m \u001b[1m3s\u001b[0m 4ms/step - accuracy: 0.9902 - loss: 0.0411 - val_accuracy: 0.9940 - val_loss: 0.0215\n",
      "Epoch 12/50\n",
      "\u001b[1m639/639\u001b[0m \u001b[32m━━━━━━━━━━━━━━━━━━━━\u001b[0m\u001b[37m\u001b[0m \u001b[1m2s\u001b[0m 4ms/step - accuracy: 0.9877 - loss: 0.0509 - val_accuracy: 0.9929 - val_loss: 0.0281\n",
      "Epoch 13/50\n",
      "\u001b[1m639/639\u001b[0m \u001b[32m━━━━━━━━━━━━━━━━━━━━\u001b[0m\u001b[37m\u001b[0m \u001b[1m2s\u001b[0m 4ms/step - accuracy: 0.9884 - loss: 0.0824 - val_accuracy: 0.9959 - val_loss: 0.0346\n",
      "Epoch 14/50\n",
      "\u001b[1m639/639\u001b[0m \u001b[32m━━━━━━━━━━━━━━━━━━━━\u001b[0m\u001b[37m\u001b[0m \u001b[1m2s\u001b[0m 4ms/step - accuracy: 0.9890 - loss: 0.0551 - val_accuracy: 0.9958 - val_loss: 0.0197\n",
      "Epoch 15/50\n",
      "\u001b[1m639/639\u001b[0m \u001b[32m━━━━━━━━━━━━━━━━━━━━\u001b[0m\u001b[37m\u001b[0m \u001b[1m2s\u001b[0m 4ms/step - accuracy: 0.9919 - loss: 0.0326 - val_accuracy: 0.9963 - val_loss: 0.0164\n",
      "Epoch 16/50\n",
      "\u001b[1m639/639\u001b[0m \u001b[32m━━━━━━━━━━━━━━━━━━━━\u001b[0m\u001b[37m\u001b[0m \u001b[1m2s\u001b[0m 4ms/step - accuracy: 0.9889 - loss: 0.0468 - val_accuracy: 0.9957 - val_loss: 0.0249\n",
      "Epoch 17/50\n",
      "\u001b[1m639/639\u001b[0m \u001b[32m━━━━━━━━━━━━━━━━━━━━\u001b[0m\u001b[37m\u001b[0m \u001b[1m2s\u001b[0m 4ms/step - accuracy: 0.9855 - loss: 0.0825 - val_accuracy: 0.9965 - val_loss: 0.0171\n",
      "Epoch 18/50\n",
      "\u001b[1m639/639\u001b[0m \u001b[32m━━━━━━━━━━━━━━━━━━━━\u001b[0m\u001b[37m\u001b[0m \u001b[1m2s\u001b[0m 4ms/step - accuracy: 0.9889 - loss: 0.0525 - val_accuracy: 0.9942 - val_loss: 0.0407\n",
      "Epoch 19/50\n",
      "\u001b[1m639/639\u001b[0m \u001b[32m━━━━━━━━━━━━━━━━━━━━\u001b[0m\u001b[37m\u001b[0m \u001b[1m2s\u001b[0m 4ms/step - accuracy: 0.9911 - loss: 0.0407 - val_accuracy: 0.9954 - val_loss: 0.0388\n",
      "Epoch 20/50\n",
      "\u001b[1m639/639\u001b[0m \u001b[32m━━━━━━━━━━━━━━━━━━━━\u001b[0m\u001b[37m\u001b[0m \u001b[1m2s\u001b[0m 4ms/step - accuracy: 0.9876 - loss: 0.0989 - val_accuracy: 0.9967 - val_loss: 0.0157\n",
      "Epoch 21/50\n",
      "\u001b[1m639/639\u001b[0m \u001b[32m━━━━━━━━━━━━━━━━━━━━\u001b[0m\u001b[37m\u001b[0m \u001b[1m2s\u001b[0m 4ms/step - accuracy: 0.9929 - loss: 0.0263 - val_accuracy: 0.9975 - val_loss: 0.0147\n",
      "Epoch 22/50\n",
      "\u001b[1m639/639\u001b[0m \u001b[32m━━━━━━━━━━━━━━━━━━━━\u001b[0m\u001b[37m\u001b[0m \u001b[1m2s\u001b[0m 4ms/step - accuracy: 0.9928 - loss: 0.0379 - val_accuracy: 0.9973 - val_loss: 0.0595\n",
      "Epoch 23/50\n",
      "\u001b[1m639/639\u001b[0m \u001b[32m━━━━━━━━━━━━━━━━━━━━\u001b[0m\u001b[37m\u001b[0m \u001b[1m2s\u001b[0m 4ms/step - accuracy: 0.9924 - loss: 0.0683 - val_accuracy: 0.9973 - val_loss: 0.0090\n",
      "Epoch 24/50\n",
      "\u001b[1m639/639\u001b[0m \u001b[32m━━━━━━━━━━━━━━━━━━━━\u001b[0m\u001b[37m\u001b[0m \u001b[1m3s\u001b[0m 4ms/step - accuracy: 0.9944 - loss: 0.0257 - val_accuracy: 0.9969 - val_loss: 0.0152\n",
      "Epoch 25/50\n",
      "\u001b[1m639/639\u001b[0m \u001b[32m━━━━━━━━━━━━━━━━━━━━\u001b[0m\u001b[37m\u001b[0m \u001b[1m2s\u001b[0m 4ms/step - accuracy: 0.9942 - loss: 0.0261 - val_accuracy: 0.9990 - val_loss: 0.0054\n",
      "Epoch 26/50\n",
      "\u001b[1m639/639\u001b[0m \u001b[32m━━━━━━━━━━━━━━━━━━━━\u001b[0m\u001b[37m\u001b[0m \u001b[1m2s\u001b[0m 4ms/step - accuracy: 0.9959 - loss: 0.0218 - val_accuracy: 0.9969 - val_loss: 0.0626\n",
      "Epoch 27/50\n",
      "\u001b[1m639/639\u001b[0m \u001b[32m━━━━━━━━━━━━━━━━━━━━\u001b[0m\u001b[37m\u001b[0m \u001b[1m2s\u001b[0m 4ms/step - accuracy: 0.9898 - loss: 0.1187 - val_accuracy: 0.9970 - val_loss: 0.0393\n",
      "Epoch 28/50\n",
      "\u001b[1m639/639\u001b[0m \u001b[32m━━━━━━━━━━━━━━━━━━━━\u001b[0m\u001b[37m\u001b[0m \u001b[1m2s\u001b[0m 4ms/step - accuracy: 0.9944 - loss: 0.0319 - val_accuracy: 0.9984 - val_loss: 0.0048\n",
      "Epoch 29/50\n",
      "\u001b[1m639/639\u001b[0m \u001b[32m━━━━━━━━━━━━━━━━━━━━\u001b[0m\u001b[37m\u001b[0m \u001b[1m2s\u001b[0m 4ms/step - accuracy: 0.9954 - loss: 0.0175 - val_accuracy: 0.9965 - val_loss: 0.0189\n",
      "Epoch 30/50\n",
      "\u001b[1m639/639\u001b[0m \u001b[32m━━━━━━━━━━━━━━━━━━━━\u001b[0m\u001b[37m\u001b[0m \u001b[1m2s\u001b[0m 4ms/step - accuracy: 0.9943 - loss: 0.0228 - val_accuracy: 0.9854 - val_loss: 0.0576\n",
      "Epoch 31/50\n",
      "\u001b[1m639/639\u001b[0m \u001b[32m━━━━━━━━━━━━━━━━━━━━\u001b[0m\u001b[37m\u001b[0m \u001b[1m3s\u001b[0m 4ms/step - accuracy: 0.9903 - loss: 0.1125 - val_accuracy: 0.9976 - val_loss: 0.0299\n",
      "Epoch 32/50\n",
      "\u001b[1m639/639\u001b[0m \u001b[32m━━━━━━━━━━━━━━━━━━━━\u001b[0m\u001b[37m\u001b[0m \u001b[1m2s\u001b[0m 4ms/step - accuracy: 0.9950 - loss: 0.0351 - val_accuracy: 0.9986 - val_loss: 0.0076\n",
      "Epoch 33/50\n",
      "\u001b[1m639/639\u001b[0m \u001b[32m━━━━━━━━━━━━━━━━━━━━\u001b[0m\u001b[37m\u001b[0m \u001b[1m2s\u001b[0m 4ms/step - accuracy: 0.9948 - loss: 0.0383 - val_accuracy: 0.9989 - val_loss: 0.0109\n",
      "Epoch 34/50\n",
      "\u001b[1m639/639\u001b[0m \u001b[32m━━━━━━━━━━━━━━━━━━━━\u001b[0m\u001b[37m\u001b[0m \u001b[1m2s\u001b[0m 4ms/step - accuracy: 0.9956 - loss: 0.0395 - val_accuracy: 0.9951 - val_loss: 0.0806\n",
      "Epoch 35/50\n",
      "\u001b[1m639/639\u001b[0m \u001b[32m━━━━━━━━━━━━━━━━━━━━\u001b[0m\u001b[37m\u001b[0m \u001b[1m2s\u001b[0m 4ms/step - accuracy: 0.9936 - loss: 0.0627 - val_accuracy: 0.9990 - val_loss: 0.0041\n",
      "Epoch 36/50\n",
      "\u001b[1m639/639\u001b[0m \u001b[32m━━━━━━━━━━━━━━━━━━━━\u001b[0m\u001b[37m\u001b[0m \u001b[1m2s\u001b[0m 4ms/step - accuracy: 0.9962 - loss: 0.0174 - val_accuracy: 0.9991 - val_loss: 0.0077\n",
      "Epoch 37/50\n",
      "\u001b[1m639/639\u001b[0m \u001b[32m━━━━━━━━━━━━━━━━━━━━\u001b[0m\u001b[37m\u001b[0m \u001b[1m2s\u001b[0m 4ms/step - accuracy: 0.9940 - loss: 0.0292 - val_accuracy: 0.9986 - val_loss: 0.0098\n",
      "Epoch 38/50\n",
      "\u001b[1m639/639\u001b[0m \u001b[32m━━━━━━━━━━━━━━━━━━━━\u001b[0m\u001b[37m\u001b[0m \u001b[1m2s\u001b[0m 4ms/step - accuracy: 0.9959 - loss: 0.0246 - val_accuracy: 0.9989 - val_loss: 0.0050\n",
      "Epoch 39/50\n",
      "\u001b[1m639/639\u001b[0m \u001b[32m━━━━━━━━━━━━━━━━━━━━\u001b[0m\u001b[37m\u001b[0m \u001b[1m3s\u001b[0m 4ms/step - accuracy: 0.9924 - loss: 0.0552 - val_accuracy: 0.9974 - val_loss: 0.0615\n",
      "Epoch 40/50\n",
      "\u001b[1m639/639\u001b[0m \u001b[32m━━━━━━━━━━━━━━━━━━━━\u001b[0m\u001b[37m\u001b[0m \u001b[1m2s\u001b[0m 4ms/step - accuracy: 0.9955 - loss: 0.0479 - val_accuracy: 0.9989 - val_loss: 0.0039\n",
      "Epoch 41/50\n",
      "\u001b[1m639/639\u001b[0m \u001b[32m━━━━━━━━━━━━━━━━━━━━\u001b[0m\u001b[37m\u001b[0m \u001b[1m2s\u001b[0m 3ms/step - accuracy: 0.9960 - loss: 0.0163 - val_accuracy: 0.9993 - val_loss: 0.0033\n",
      "Epoch 42/50\n",
      "\u001b[1m639/639\u001b[0m \u001b[32m━━━━━━━━━━━━━━━━━━━━\u001b[0m\u001b[37m\u001b[0m \u001b[1m2s\u001b[0m 3ms/step - accuracy: 0.9951 - loss: 0.0405 - val_accuracy: 0.9998 - val_loss: 0.0029\n",
      "Epoch 43/50\n",
      "\u001b[1m639/639\u001b[0m \u001b[32m━━━━━━━━━━━━━━━━━━━━\u001b[0m\u001b[37m\u001b[0m \u001b[1m2s\u001b[0m 3ms/step - accuracy: 0.9945 - loss: 0.0524 - val_accuracy: 0.9984 - val_loss: 0.0052\n",
      "Epoch 44/50\n",
      "\u001b[1m639/639\u001b[0m \u001b[32m━━━━━━━━━━━━━━━━━━━━\u001b[0m\u001b[37m\u001b[0m \u001b[1m2s\u001b[0m 3ms/step - accuracy: 0.9951 - loss: 0.0267 - val_accuracy: 0.9994 - val_loss: 0.0068\n",
      "Epoch 45/50\n",
      "\u001b[1m639/639\u001b[0m \u001b[32m━━━━━━━━━━━━━━━━━━━━\u001b[0m\u001b[37m\u001b[0m \u001b[1m2s\u001b[0m 3ms/step - accuracy: 0.9969 - loss: 0.0234 - val_accuracy: 0.9994 - val_loss: 0.0045\n",
      "Epoch 46/50\n",
      "\u001b[1m639/639\u001b[0m \u001b[32m━━━━━━━━━━━━━━━━━━━━\u001b[0m\u001b[37m\u001b[0m \u001b[1m2s\u001b[0m 3ms/step - accuracy: 0.9952 - loss: 0.0374 - val_accuracy: 0.9990 - val_loss: 0.0047\n",
      "Epoch 47/50\n",
      "\u001b[1m639/639\u001b[0m \u001b[32m━━━━━━━━━━━━━━━━━━━━\u001b[0m\u001b[37m\u001b[0m \u001b[1m2s\u001b[0m 4ms/step - accuracy: 0.9952 - loss: 0.0320 - val_accuracy: 0.9987 - val_loss: 0.0049\n",
      "Epoch 48/50\n",
      "\u001b[1m639/639\u001b[0m \u001b[32m━━━━━━━━━━━━━━━━━━━━\u001b[0m\u001b[37m\u001b[0m \u001b[1m2s\u001b[0m 3ms/step - accuracy: 0.9968 - loss: 0.0222 - val_accuracy: 0.9987 - val_loss: 0.0055\n",
      "Epoch 49/50\n",
      "\u001b[1m639/639\u001b[0m \u001b[32m━━━━━━━━━━━━━━━━━━━━\u001b[0m\u001b[37m\u001b[0m \u001b[1m2s\u001b[0m 3ms/step - accuracy: 0.9928 - loss: 0.0486 - val_accuracy: 0.9990 - val_loss: 0.0100\n",
      "Epoch 50/50\n",
      "\u001b[1m639/639\u001b[0m \u001b[32m━━━━━━━━━━━━━━━━━━━━\u001b[0m\u001b[37m\u001b[0m \u001b[1m2s\u001b[0m 3ms/step - accuracy: 0.9935 - loss: 0.0610 - val_accuracy: 0.9989 - val_loss: 0.0143\n",
      "\u001b[1m274/274\u001b[0m \u001b[32m━━━━━━━━━━━━━━━━━━━━\u001b[0m\u001b[37m\u001b[0m \u001b[1m0s\u001b[0m 1ms/step - accuracy: 0.9997 - loss: 0.0054\n",
      "Test Accuracy: 0.9998\n",
      "\u001b[1m274/274\u001b[0m \u001b[32m━━━━━━━━━━━━━━━━━━━━\u001b[0m\u001b[37m\u001b[0m \u001b[1m1s\u001b[0m 2ms/step\n",
      "              precision    recall  f1-score   support\n",
      "\n",
      "           0       1.00      1.00      1.00      3705\n",
      "           1       1.00      1.00      1.00      5058\n",
      "\n",
      "    accuracy                           1.00      8763\n",
      "   macro avg       1.00      1.00      1.00      8763\n",
      "weighted avg       1.00      1.00      1.00      8763\n",
      "\n",
      "\u001b[1m274/274\u001b[0m \u001b[32m━━━━━━━━━━━━━━━━━━━━\u001b[0m\u001b[37m\u001b[0m \u001b[1m0s\u001b[0m 1ms/step\n",
      "ROC-AUC Score: 0.9998562691670015\n"
     ]
    }
   ],
   "source": [
    "\n",
    "model = Sequential([\n",
    "    # Input Layer + First Hidden Layer\n",
    "    Dense(256, activation='relu', input_shape=(X_train.shape[1],)),\n",
    "    BatchNormalization(),\n",
    "    Dropout(0.5),\n",
    "\n",
    "    # Second Hidden Layer\n",
    "    Dense(128, activation='relu'),\n",
    "    BatchNormalization(),\n",
    "    Dropout(0.5),\n",
    "\n",
    "    # Third Hidden Layer\n",
    "    Dense(64, activation='relu'),\n",
    "    BatchNormalization(),\n",
    "    Dropout(0.3),\n",
    "\n",
    "    # Output Layer\n",
    "    Dense(1, activation='sigmoid')  # Binary classification (phishing or not)\n",
    "])\n",
    "\n",
    "# Compile the model\n",
    "model.compile(optimizer=Adam(learning_rate=0.1),\n",
    "              loss='binary_crossentropy',\n",
    "              metrics=['accuracy'])\n",
    "\n",
    "# Early Stopping to avoid overfitting\n",
    "early_stopping = EarlyStopping(monitor='val_loss', patience=10, restore_best_weights=True)\n",
    "\n",
    "# Train the model\n",
    "history = model.fit(X_train, y_train,\n",
    "                    validation_data=(X_test, y_test),\n",
    "                    epochs=50,\n",
    "                    batch_size=32,\n",
    "                    callbacks=[early_stopping])\n",
    "\n",
    "# Evaluate on validation set\n",
    "test_loss, test_accuracy = model.evaluate(X_test, y_test)\n",
    "print(f\"Test Accuracy: {test_accuracy:.4f}\")\n",
    "\n",
    "# Predict on test set\n",
    "y_val_pred = (model.predict(X_test) > 0.5).astype(\"int32\")\n",
    "print(classification_report(y_test, y_val_pred))\n",
    "print(\"ROC-AUC Score:\", roc_auc_score(y_test, model.predict(X_test)))\n"
   ]
  },
  {
   "cell_type": "markdown",
   "metadata": {},
   "source": [
    "The DNN sequential model is created with three hidden layers using ReLU activation functions, followed by Batch Normalization and Dropout layers to improve training stability and prevent overfitting. The output layer uses a sigmoid activation function for binary classification.Early Stopping was used to avoid overfitting.\n",
    "The model excels in detecting phishing websites, achieving an ROC-AUC score of 0.99 and perfect precision, recall, and F1 scores of 1.00 for both classes. With a 100% accuracy on the test set and support values of 3705 for legitimate sites and 5058 for phishing sites, the results indicate excellent generalization."
   ]
  },
  {
   "cell_type": "markdown",
   "metadata": {},
   "source": [
    "### Save the Optimal Model"
   ]
  },
  {
   "cell_type": "code",
   "execution_count": 14,
   "metadata": {},
   "outputs": [],
   "source": [
    "#Save the model\n",
    "with open('logistic_regression.pkl', 'wb') as file:\n",
    "    pickle.dump(log_reg_model, file)\n",
    "\n",
    "with open (\"scaler.pkl\", \"wb\") as file:\n",
    "    pickle.dump(scaler,file)\n",
    "\n",
    "with open (\"features.pkl\", \"wb\") as file:\n",
    "    pickle.dump(nums.columns,file)"
   ]
  }
 ],
 "metadata": {
  "kernelspec": {
   "display_name": "learn-env",
   "language": "python",
   "name": "python3"
  },
  "language_info": {
   "codemirror_mode": {
    "name": "ipython",
    "version": 3
   },
   "file_extension": ".py",
   "mimetype": "text/x-python",
   "name": "python",
   "nbconvert_exporter": "python",
   "pygments_lexer": "ipython3",
   "version": "3.11.9"
  }
 },
 "nbformat": 4,
 "nbformat_minor": 2
}
